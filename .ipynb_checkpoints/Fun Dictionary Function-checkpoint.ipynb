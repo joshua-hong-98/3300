{
 "cells": [
  {
   "cell_type": "code",
   "execution_count": 1,
   "metadata": {},
   "outputs": [
    {
     "name": "stdout",
     "output_type": "stream",
     "text": [
      "{'fog': 13651, 'for': 7097981, 'ford': 15620, 'fore': 6699, 'forge': 3893, 'fork': 8219, 'form': 307506, 'fort': 23113, 'frog': 20000, 'go': 816536, 'god': 552668, 'good': 966602, 'gorge': 6177, 'got': 432016, 'groan': 9995, 'grow': 64005, 'grown': 57772, 'lord': 422407, 'more': 1899787, 'nor': 349691, 'of': 33950064, 'off': 545832, 'or': 4228287, 'work': 829823}\n"
     ]
    }
   ],
   "source": [
    "dic = dict([('fog' , 13651),\n",
    "('for' , 7097981),\n",
    "('ford' , 15620),\n",
    "('fore' , 6699),\n",
    "('forge' , 3893),\n",
    "('fork' , 8219),\n",
    "('form' , 307506),\n",
    "('fort' , 23113),\n",
    "('frog' , 20000),\n",
    "('go' , 816536),\n",
    "('god' , 552668),\n",
    "('good' , 966602),\n",
    "('gorge' , 6177),\n",
    "('got' , 432016),\n",
    "('groan' , 9995),\n",
    "('grow' , 64005),\n",
    "('grown' , 57772),\n",
    "('lord' , 422407),\n",
    "('more' , 1899787),\n",
    "('nor' , 349691),\n",
    "('of' , 33950064),\n",
    "('off' , 545832),\n",
    "('or' , 4228287),\n",
    "('work' , 829823)])\n",
    "\n",
    "print(dic)"
   ]
  },
  {
   "cell_type": "code",
   "execution_count": 2,
   "metadata": {},
   "outputs": [],
   "source": [
    "import re\n",
    "from collections import Counter\n",
    "\n",
    "\n",
    "WORDS = Counter(dic)\n",
    "\n",
    "def P(word, N=sum(WORDS.values())): \n",
    "    \"Probability of `word`.\"\n",
    "    return WORDS[word] / N\n",
    "\n",
    "def correction(word): \n",
    "    \"Most probable spelling correction for word.\"\n",
    "    return max(candidates(word), key=P)\n",
    "\n",
    "def candidates(word): \n",
    "    \"Generate possible spelling corrections for word.\"\n",
    "    return (known([word]) or known(edits1(word)) or known(edits2(word)) or [word])\n",
    "\n",
    "def known(words): \n",
    "    \"The subset of `words` that appear in the dictionary of WORDS.\"\n",
    "    return set(w for w in words if w in WORDS)\n",
    "\n",
    "def edits1(word):\n",
    "    \"All edits that are one edit away from `word`.\"\n",
    "    letters    = 'abcdefghijklmnopqrstuvwxyz'\n",
    "    splits     = [(word[:i], word[i:])    for i in range(len(word) + 1)]\n",
    "    deletes    = [L + R[1:]               for L, R in splits if R]\n",
    "    transposes = [L + R[1] + R[0] + R[2:] for L, R in splits if len(R)>1]\n",
    "    replaces   = [L + c + R[1:]           for L, R in splits if R for c in letters]\n",
    "    inserts    = [L + c + R               for L, R in splits for c in letters]\n",
    "    return set(deletes + transposes + replaces + inserts)\n",
    "\n",
    "def edits2(word): \n",
    "    \"All edits that are two edits away from `word`.\"\n",
    "    return (e2 for e1 in edits1(word) for e2 in edits1(e1))\n",
    "def correct(word):\n",
    "    candidates = known([word]) or known(edits1(word)) or known(edits2(word)) or [word]\n",
    "    return max(candidates, key=WORDS.get)"
   ]
  },
  {
   "cell_type": "code",
   "execution_count": 3,
   "metadata": {},
   "outputs": [
    {
     "data": {
      "text/plain": [
       "'for'"
      ]
     },
     "execution_count": 3,
     "metadata": {},
     "output_type": "execute_result"
    }
   ],
   "source": [
    "correct('ferg')"
   ]
  }
 ],
 "metadata": {
  "kernelspec": {
   "display_name": "Python 3",
   "language": "python",
   "name": "python3"
  },
  "language_info": {
   "codemirror_mode": {
    "name": "ipython",
    "version": 3
   },
   "file_extension": ".py",
   "mimetype": "text/x-python",
   "name": "python",
   "nbconvert_exporter": "python",
   "pygments_lexer": "ipython3",
   "version": "3.7.2"
  }
 },
 "nbformat": 4,
 "nbformat_minor": 4
}
